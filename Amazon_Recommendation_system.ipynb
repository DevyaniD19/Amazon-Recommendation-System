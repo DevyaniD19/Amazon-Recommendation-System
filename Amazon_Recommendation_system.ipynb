{
  "nbformat": 4,
  "nbformat_minor": 0,
  "metadata": {
    "colab": {
      "provenance": []
    },
    "kernelspec": {
      "name": "python3",
      "display_name": "Python 3"
    },
    "language_info": {
      "name": "python"
    }
  },
  "cells": [
    {
      "cell_type": "code",
      "execution_count": null,
      "metadata": {
        "id": "Be784UpZ6XkA",
        "colab": {
          "base_uri": "https://localhost:8080/"
        },
        "outputId": "68810c33-0b99-4e2a-c9e0-f4267e3128cd"
      },
      "outputs": [
        {
          "output_type": "stream",
          "name": "stdout",
          "text": [
            "\u001b[2K     \u001b[90m━━━━━━━━━━━━━━━━━━━━━━━━━━━━━━━━━━━━━━━━\u001b[0m \u001b[32m316.9/316.9 MB\u001b[0m \u001b[31m2.9 MB/s\u001b[0m eta \u001b[36m0:00:00\u001b[0m\n",
            "\u001b[?25h  Preparing metadata (setup.py) ... \u001b[?25l\u001b[?25hdone\n",
            "  Building wheel for pyspark (setup.py) ... \u001b[?25l\u001b[?25hdone\n"
          ]
        }
      ],
      "source": [
        "!pip install -q pyspark"
      ]
    },
    {
      "cell_type": "code",
      "source": [
        "from google.colab import drive\n",
        "drive.mount('/content/gdrive')"
      ],
      "metadata": {
        "id": "ktFTgipU6lf-",
        "colab": {
          "base_uri": "https://localhost:8080/"
        },
        "outputId": "4f8493c2-e051-4c93-bfd2-9e6a072d0f07"
      },
      "execution_count": null,
      "outputs": [
        {
          "output_type": "stream",
          "name": "stdout",
          "text": [
            "Mounted at /content/gdrive\n"
          ]
        }
      ]
    },
    {
      "cell_type": "code",
      "source": [
        "from pyspark.sql import SparkSession\n",
        "from pyspark.sql.functions import col, count, when, row_number, dense_rank\n",
        "from pyspark.sql.window import Window\n",
        "\n",
        "# Create a SparkSession\n",
        "spark = SparkSession.builder.appName(\"Amazon Recommendation System\").getOrCreate()\n",
        "\n",
        "# Read the CSV files into DataFrames\n",
        "amazon_df = spark.read.format(\"csv\").option(\"header\", \"true\").load(\"/content/gdrive/MyDrive/ratings_Electronics (1)_new.csv\")\n",
        "\n"
      ],
      "metadata": {
        "id": "jl-mqRw16oZY"
      },
      "execution_count": null,
      "outputs": []
    },
    {
      "cell_type": "code",
      "source": [
        "amazon_df.show(10)"
      ],
      "metadata": {
        "colab": {
          "base_uri": "https://localhost:8080/"
        },
        "id": "9Xsmql2M8vVK",
        "outputId": "aae8ab29-92e8-41fa-b5a0-3a8f43eb8a94"
      },
      "execution_count": null,
      "outputs": [
        {
          "output_type": "stream",
          "name": "stdout",
          "text": [
            "+--------------+----------+------+----------+\n",
            "|       User_ID|Product_ID|Rating| Timestamp|\n",
            "+--------------+----------+------+----------+\n",
            "|A2CX7LUOHB2NDG|0321732944|     5|1341100800|\n",
            "|A2NWSAGRHCP8N5|0439886341|     1|1367193600|\n",
            "|A2WNBOD3WNDNKT|0439886341|     3|1374451200|\n",
            "|A1GI0U4ZRJA8WN|0439886341|     1|1334707200|\n",
            "|A1QGNMC6O1VW39|0511189877|     5|1397433600|\n",
            "|A3J3BRHTDRFJ2G|0511189877|     2|1397433600|\n",
            "|A2TY0BTJOTENPG|0511189877|     5|1395878400|\n",
            "|A34ATBPOK6HCHY|0511189877|     5|1395532800|\n",
            "| A89DO69P0XZ27|0511189877|     5|1395446400|\n",
            "| AZYNQZ94U6VDB|0511189877|     5|1401321600|\n",
            "+--------------+----------+------+----------+\n",
            "only showing top 10 rows\n",
            "\n"
          ]
        }
      ]
    },
    {
      "cell_type": "markdown",
      "source": [
        "Checking the type of each column"
      ],
      "metadata": {
        "id": "u0yFpIi_YRK1"
      }
    },
    {
      "cell_type": "code",
      "source": [
        "amazon_df.printSchema()"
      ],
      "metadata": {
        "colab": {
          "base_uri": "https://localhost:8080/"
        },
        "id": "fIL_t9g2-6p2",
        "outputId": "46fb0fea-49b5-427e-e909-4b0483f62e18"
      },
      "execution_count": null,
      "outputs": [
        {
          "output_type": "stream",
          "name": "stdout",
          "text": [
            "root\n",
            " |-- User_ID: string (nullable = true)\n",
            " |-- Product_ID: string (nullable = true)\n",
            " |-- Rating: string (nullable = true)\n",
            " |-- Timestamp: string (nullable = true)\n",
            "\n"
          ]
        }
      ]
    },
    {
      "cell_type": "markdown",
      "source": [
        "Checking for NULL values"
      ],
      "metadata": {
        "id": "3XkRKhn7YX0d"
      }
    },
    {
      "cell_type": "code",
      "source": [
        "# Checking null values in each column\n",
        "null_values = amazon_df.select([count(when(col(c).isNull(), c)).alias(c) for c in amazon_df.columns])\n",
        "\n",
        "# Showing null values\n",
        "null_values.show()"
      ],
      "metadata": {
        "colab": {
          "base_uri": "https://localhost:8080/"
        },
        "id": "XBhsKjXL-6th",
        "outputId": "f470af63-0b3f-4926-b897-2cab95a4e498"
      },
      "execution_count": null,
      "outputs": [
        {
          "output_type": "stream",
          "name": "stdout",
          "text": [
            "+-------+----------+------+---------+\n",
            "|User_ID|Product_ID|Rating|Timestamp|\n",
            "+-------+----------+------+---------+\n",
            "|      0|         0|     0|        0|\n",
            "+-------+----------+------+---------+\n",
            "\n"
          ]
        }
      ]
    },
    {
      "cell_type": "markdown",
      "source": [
        "Neither of the columns have null values, so we will not perform any imputations over here."
      ],
      "metadata": {
        "id": "HutUeo3mVzJa"
      }
    },
    {
      "cell_type": "markdown",
      "source": [
        "Getting a summary of statistics"
      ],
      "metadata": {
        "id": "agMNZvjFYetk"
      }
    },
    {
      "cell_type": "code",
      "source": [
        "# Changing the type of 'Rating column to integer'\n",
        "column_name = ['Rating']\n",
        "\n",
        "for N in column_name:\n",
        "    amazon_df = amazon_df.withColumn(N, col(N).cast('integer'))\n"
      ],
      "metadata": {
        "id": "hs9jQYWodqAj"
      },
      "execution_count": null,
      "outputs": []
    },
    {
      "cell_type": "code",
      "source": [
        "# Displaying the statistics\n",
        "amazon_df.select(column_name).describe().show()"
      ],
      "metadata": {
        "colab": {
          "base_uri": "https://localhost:8080/"
        },
        "id": "1L-H3IqOWhrq",
        "outputId": "68afab3b-4966-4a91-fb81-f0d5d1bc1a04"
      },
      "execution_count": null,
      "outputs": [
        {
          "output_type": "stream",
          "name": "stdout",
          "text": [
            "+-------+------------------+\n",
            "|summary|            Rating|\n",
            "+-------+------------------+\n",
            "|  count|           1048575|\n",
            "|   mean|3.9733791097441764|\n",
            "| stddev| 1.399329495191631|\n",
            "|    min|                 1|\n",
            "|    max|                 5|\n",
            "+-------+------------------+\n",
            "\n"
          ]
        }
      ]
    },
    {
      "cell_type": "markdown",
      "source": [
        "For Modelling, we would need all the columns in our data to be numeric.After checking the Product_ID we understood that it had a lot of non-numeric charaters, so we created a new column \"New_Product_ID\" where all the values are numeric."
      ],
      "metadata": {
        "id": "sKe4sT4PYmke"
      }
    },
    {
      "cell_type": "code",
      "source": [
        "windowSpec = Window.orderBy(\"Product_ID\")\n",
        "amazon_df = amazon_df.withColumn(\"New_Product_ID\", dense_rank().over(windowSpec))\n",
        "# Showing the DataFrame after the conversion\n",
        "amazon_df.show(10)"
      ],
      "metadata": {
        "colab": {
          "base_uri": "https://localhost:8080/"
        },
        "id": "nMzOqAGP6AQr",
        "outputId": "34d0e200-14dd-4fd6-cfb9-3bf058bb0a92"
      },
      "execution_count": null,
      "outputs": [
        {
          "output_type": "stream",
          "name": "stdout",
          "text": [
            "+--------------+----------+------+----------+--------------+\n",
            "|       User_ID|Product_ID|Rating| Timestamp|New_Product_ID|\n",
            "+--------------+----------+------+----------+--------------+\n",
            "|A2CX7LUOHB2NDG|0321732944|     5|1341100800|             1|\n",
            "|A2NWSAGRHCP8N5|0439886341|     1|1367193600|             2|\n",
            "|A2WNBOD3WNDNKT|0439886341|     3|1374451200|             2|\n",
            "|A1GI0U4ZRJA8WN|0439886341|     1|1334707200|             2|\n",
            "|A1QGNMC6O1VW39|0511189877|     5|1397433600|             3|\n",
            "|A3J3BRHTDRFJ2G|0511189877|     2|1397433600|             3|\n",
            "|A2TY0BTJOTENPG|0511189877|     5|1395878400|             3|\n",
            "|A34ATBPOK6HCHY|0511189877|     5|1395532800|             3|\n",
            "| A89DO69P0XZ27|0511189877|     5|1395446400|             3|\n",
            "| AZYNQZ94U6VDB|0511189877|     5|1401321600|             3|\n",
            "+--------------+----------+------+----------+--------------+\n",
            "only showing top 10 rows\n",
            "\n"
          ]
        }
      ]
    },
    {
      "cell_type": "markdown",
      "source": [
        "Similarly, After checking the user_ID we understood that it had a lot of non-numeric charaters, so we created a new column \"New_User_ID\" where all the values are numeric.\n",
        "\n"
      ],
      "metadata": {
        "id": "af1FTEZhZeLI"
      }
    },
    {
      "cell_type": "markdown",
      "source": [],
      "metadata": {
        "id": "KEIO267-IpIw"
      }
    },
    {
      "cell_type": "code",
      "source": [
        "windowSpec = Window.orderBy(\"user_ID\")\n",
        "amazon_df = amazon_df.withColumn(\"New_User_ID\", dense_rank().over(windowSpec))\n",
        "\n",
        "# Showing the DataFrame after the conversion\n",
        "amazon_df.show(10)"
      ],
      "metadata": {
        "colab": {
          "base_uri": "https://localhost:8080/"
        },
        "id": "ZpAGXTtqBqUO",
        "outputId": "303af62e-c5b6-40a3-866b-b09ed2bd6dfb"
      },
      "execution_count": null,
      "outputs": [
        {
          "output_type": "stream",
          "name": "stdout",
          "text": [
            "+--------------------+----------+------+----------+--------------+-----------+\n",
            "|             User_ID|Product_ID|Rating| Timestamp|New_Product_ID|New_User_ID|\n",
            "+--------------------+----------+------+----------+--------------+-----------+\n",
            "|A00037441I8XOQJSU...|B000I3C624|     5|1356220800|         61009|          1|\n",
            "|A00038802J7X43YTW...|B0007NWLXO|     1|1397433600|         36802|          2|\n",
            "|A00038802J7X43YTW...|B000EGGPM2|     5|1368662400|         50901|          2|\n",
            "|A000428226SAAAIBK...|B000CRT07U|     5|1388793600|         48904|          3|\n",
            "|A0004478EF5NFPHLGCWG|B00012F6A6|     4|1358380800|         23088|          4|\n",
            "|A000681618A3WRMCK53V|B0002Y5WZM|     2|1383609600|         31640|          5|\n",
            "|A00101847G3FJTWYGNQA|B0002JFOQO|     5|1385769600|         29836|          6|\n",
            "|A00124802J36AVPT3...|B00008N6Y8|     1|1396224000|         15580|          7|\n",
            "|A00151102CWWUCLQH...|B000EMCZ52|     5|1397433600|         51495|          8|\n",
            "|A0015232111B3971D...|B0000C73CQ|     3|1387756800|         21221|          9|\n",
            "+--------------------+----------+------+----------+--------------+-----------+\n",
            "only showing top 10 rows\n",
            "\n"
          ]
        }
      ]
    },
    {
      "cell_type": "markdown",
      "source": [],
      "metadata": {
        "id": "jWlZUri7Z7kT"
      }
    },
    {
      "cell_type": "markdown",
      "source": [
        "Checking the types of the new columns"
      ],
      "metadata": {
        "id": "bY-6V_k7Z7qw"
      }
    },
    {
      "cell_type": "code",
      "source": [
        "amazon_df.printSchema()"
      ],
      "metadata": {
        "colab": {
          "base_uri": "https://localhost:8080/"
        },
        "id": "onyq5zTlc4EI",
        "outputId": "587ac071-f58a-4fbe-b23c-dcc7940b8f0a"
      },
      "execution_count": null,
      "outputs": [
        {
          "output_type": "stream",
          "name": "stdout",
          "text": [
            "root\n",
            " |-- User_ID: string (nullable = true)\n",
            " |-- Product_ID: string (nullable = true)\n",
            " |-- Rating: integer (nullable = true)\n",
            " |-- Timestamp: string (nullable = true)\n",
            " |-- New_Product_ID: integer (nullable = false)\n",
            " |-- New_User_ID: integer (nullable = false)\n",
            "\n"
          ]
        }
      ]
    },
    {
      "cell_type": "markdown",
      "source": [
        "Re-checking for NULL values"
      ],
      "metadata": {
        "id": "6aaHjPezaCNC"
      }
    },
    {
      "cell_type": "code",
      "source": [
        "# Checking null values in each column\n",
        "null_values = amazon_df.select([count(when(col(c).isNull(), c)).alias(c) for c in amazon_df.columns])\n",
        "\n",
        "# Showing nul values\n",
        "null_values.show()"
      ],
      "metadata": {
        "colab": {
          "base_uri": "https://localhost:8080/"
        },
        "id": "BjZz0Dis6ni-",
        "outputId": "7766cfac-2ccf-4c3d-922d-dc5264b5a723"
      },
      "execution_count": null,
      "outputs": [
        {
          "output_type": "stream",
          "name": "stdout",
          "text": [
            "+-------+----------+------+---------+--------------+-----------+\n",
            "|User_ID|Product_ID|Rating|Timestamp|New_Product_ID|New_User_ID|\n",
            "+-------+----------+------+---------+--------------+-----------+\n",
            "|      0|         0|     0|        0|             0|          0|\n",
            "+-------+----------+------+---------+--------------+-----------+\n",
            "\n"
          ]
        }
      ]
    },
    {
      "cell_type": "markdown",
      "source": [
        "### EDA"
      ],
      "metadata": {
        "id": "dzVQSPEyaHt7"
      }
    },
    {
      "cell_type": "code",
      "source": [
        "import matplotlib.pyplot as plt\n",
        "import seaborn as sns\n",
        "pandas_df = amazon_df.toPandas()"
      ],
      "metadata": {
        "id": "ebcQ-u6BEUbT"
      },
      "execution_count": null,
      "outputs": []
    },
    {
      "cell_type": "code",
      "source": [
        "with sns.axes_style('white'):\n",
        "    plt.figure(figsize=(10, 6))\n",
        "    sns.countplot(x=\"Rating\", data=pandas_df)\n",
        "    plt.ylabel(\"Total number of ratings\")\n",
        "    plt.title(\"Rating Count Plot\")\n",
        "\n",
        "# Show the plot\n",
        "plt.show()"
      ],
      "metadata": {
        "colab": {
          "base_uri": "https://localhost:8080/",
          "height": 564
        },
        "id": "P34jIUFyNQMI",
        "outputId": "a115f115-b128-4559-af64-d5b398a390a7"
      },
      "execution_count": null,
      "outputs": [
        {
          "output_type": "display_data",
          "data": {
            "text/plain": [
              "<Figure size 1000x600 with 1 Axes>"
            ],
            "image/png": "[encoded data removed]"
          },
          "metadata": {}
        }
      ]
    },
    {
      "cell_type": "markdown",
      "source": [
        "Dropping the Timestamp column, as it does not have much relevance in our recommendation system."
      ],
      "metadata": {
        "id": "elyTxAjTaM-A"
      }
    },
    {
      "cell_type": "code",
      "source": [
        "amazon_df = amazon_df.drop(\"Timestamp\")"
      ],
      "metadata": {
        "id": "W7F4w-0zIlAl"
      },
      "execution_count": null,
      "outputs": []
    },
    {
      "cell_type": "code",
      "source": [
        "amazon_df.show(10)"
      ],
      "metadata": {
        "colab": {
          "base_uri": "https://localhost:8080/"
        },
        "id": "9yZwdnUoPqG1",
        "outputId": "3714ec1e-5ad6-4dd7-8e06-270f7131c931"
      },
      "execution_count": null,
      "outputs": [
        {
          "output_type": "stream",
          "name": "stdout",
          "text": [
            "+--------------------+----------+------+--------------+-----------+\n",
            "|             User_ID|Product_ID|Rating|New_Product_ID|New_User_ID|\n",
            "+--------------------+----------+------+--------------+-----------+\n",
            "|A00037441I8XOQJSU...|B000I3C624|     5|         61009|          1|\n",
            "|A00038802J7X43YTW...|B0007NWLXO|     1|         36802|          2|\n",
            "|A00038802J7X43YTW...|B000EGGPM2|     5|         50901|          2|\n",
            "|A000428226SAAAIBK...|B000CRT07U|     5|         48904|          3|\n",
            "|A0004478EF5NFPHLGCWG|B00012F6A6|     4|         23088|          4|\n",
            "|A000681618A3WRMCK53V|B0002Y5WZM|     2|         31640|          5|\n",
            "|A00101847G3FJTWYGNQA|B0002JFOQO|     5|         29836|          6|\n",
            "|A00124802J36AVPT3...|B00008N6Y8|     1|         15580|          7|\n",
            "|A00151102CWWUCLQH...|B000EMCZ52|     5|         51495|          8|\n",
            "|A0015232111B3971D...|B0000C73CQ|     3|         21221|          9|\n",
            "+--------------------+----------+------+--------------+-----------+\n",
            "only showing top 10 rows\n",
            "\n"
          ]
        }
      ]
    },
    {
      "cell_type": "markdown",
      "source": [
        "## **Alternate least square method**"
      ],
      "metadata": {
        "id": "HUICoysKPF8R"
      }
    },
    {
      "cell_type": "code",
      "source": [
        "#Dividing the Data into Training and Test\n",
        "(training, test) = amazon_df.randomSplit([0.70, 0.30], seed=97)\n"
      ],
      "metadata": {
        "id": "9_A9qRnRP3dL"
      },
      "execution_count": null,
      "outputs": []
    },
    {
      "cell_type": "code",
      "source": [
        "from pyspark.ml.evaluation import RegressionEvaluator\n",
        "from pyspark.ml.recommendation import ALS\n",
        "\n"
      ],
      "metadata": {
        "id": "dcjAwg5nUXey"
      },
      "execution_count": null,
      "outputs": []
    },
    {
      "cell_type": "code",
      "source": [
        "als = ALS(maxIter=8, regParam=0.1, coldStartStrategy=\"drop\", userCol=\"New_User_ID\", itemCol=\"New_Product_ID\", ratingCol=\"Rating\")\n",
        "model = als.fit(training)"
      ],
      "metadata": {
        "id": "bhJBjAq6Uh9O"
      },
      "execution_count": null,
      "outputs": []
    },
    {
      "cell_type": "code",
      "source": [
        "# Fitting the model on Test Data\n",
        "als_model = als.fit(test)\n",
        "\n",
        "# Making prediction\n",
        "predicted_rating = als_model.transform(test)\n",
        "\n",
        "#Displaying Predictions\n",
        "predicted_rating.show()\n"
      ],
      "metadata": {
        "colab": {
          "base_uri": "https://localhost:8080/"
        },
        "id": "Qe0FA6Wld2kw",
        "outputId": "a259a003-7183-424f-e397-22cc656d7309"
      },
      "execution_count": null,
      "outputs": [
        {
          "output_type": "stream",
          "name": "stdout",
          "text": [
            "+--------------------+----------+------+----------+--------------+-----------+----------+\n",
            "|             User_ID|Product_ID|Rating| Timestamp|New_Product_ID|New_User_ID|prediction|\n",
            "+--------------------+----------+------+----------+--------------+-----------+----------+\n",
            "|A0015232111B3971D...|B0000C73CQ|     3|1387756800|         21221|          9| 2.9409244|\n",
            "|A00328401T70RFN4P...|B000I68BD4|     3|1355788800|         61285|         16| 2.8474588|\n",
            "|A00328742CDZTXNDC...|B0001FTVEK|     1|1399593600|         24439|         17| 0.9519777|\n",
            "|A00471742QKXLMG5C...|B0000C73CQ|     4|1380067200|         21221|         20| 3.9212327|\n",
            "|A00472882AAY7AC6O...|B0000DHVN3|     5|1355184000|         21787|         22|  4.881806|\n",
            "|A00593764YDL3YS9LG2G|B000ANOY7M|     5|1363046400|         43802|         26| 4.8695745|\n",
            "|A00625243BI8W1SSZ...|B0000645RH|     4|1362787200|          9224|         28| 3.8466115|\n",
            "|A00716392HKH0FTDS...|B000HDFXU2|     5|1361318400|         59528|         31| 4.9355693|\n",
            "|A00766851QZZUBOVF...|161685572X|     5|1381276800|           102|         34|  4.961094|\n",
            "|A0092711N4WNGO5KUO6W|B000HB39VE|     4|1386892800|         59388|         37| 3.9413414|\n",
            "|A00995931BE16NG4F...|B00005N6KG|     5|1368662400|          7345|         40|  4.797053|\n",
            "|A01035471LBTPFWCO...|B0000645RH|     4|1390435200|          9224|         41| 3.8466115|\n",
            "|A010905334DITASHW...|B0007NWL70|     4|1359676800|         36800|         44|  3.912665|\n",
            "|A015639027WKW2102...|B0002L5R78|     5|1354665600|         30276|         54|  4.750549|\n",
            "|A01882661RPBZMY5R...|B000B9RI14|     5|1359936000|         45092|         61|  4.749432|\n",
            "|A0191512Q2Z9IPUAE2RZ|B00030AXNQ|     5|1374278400|         32243|         64|  4.816911|\n",
            "|A02459613IS599WTH...|B00005K47X|     2|1356825600|          6917|         78| 1.9649984|\n",
            "|A027662032T2DYP86...|B0006U3ACY|     5|1376352000|         34941|         86| 4.9058094|\n",
            "|A03607431KH2KPAMW...|B00008SCFL|     2|1356134400|         15808|        120| 1.9169211|\n",
            "|A0380723C14E71D5WEEH|B000AKX15G|     5|1382227200|         43490|        128|  4.927749|\n",
            "+--------------------+----------+------+----------+--------------+-----------+----------+\n",
            "only showing top 20 rows\n",
            "\n"
          ]
        }
      ]
    },
    {
      "cell_type": "code",
      "source": [
        "# Calculating RMSE and evaluating the model\n",
        "evaluator = RegressionEvaluator(metricName=\"rmse\", labelCol=\"Rating\", predictionCol=\"prediction\")\n",
        "rmse = evaluator.evaluate(predictions)\n",
        "print(\"RMSE:\", rmse)"
      ],
      "metadata": {
        "colab": {
          "base_uri": "https://localhost:8080/"
        },
        "id": "7vY5FT5qi68c",
        "outputId": "65008428-a8cf-4071-9d9f-c759bc58fd7b"
      },
      "execution_count": null,
      "outputs": [
        {
          "output_type": "stream",
          "name": "stdout",
          "text": [
            "RMSE: 0.1311862440744296\n"
          ]
        }
      ]
    },
    {
      "cell_type": "markdown",
      "source": [
        "We have got a score RMSE score of 0.103, which is good for our model."
      ],
      "metadata": {
        "id": "NsA3YZLU5bpC"
      }
    },
    {
      "cell_type": "markdown",
      "source": [
        "## Building a Model on Collaborative filtering using ALS"
      ],
      "metadata": {
        "id": "C1e_56Vn5S-6"
      }
    },
    {
      "cell_type": "code",
      "source": [
        "distinct_user_ID = amazon_df.select('New_User_ID').distinct().rdd.flatMap(lambda x: x)\n",
        "distinct_user_ID.collect()\n"
      ],
      "metadata": {
        "colab": {
          "base_uri": "https://localhost:8080/"
        },
        "id": "s1iCoxQiowF_",
        "outputId": "8e5b217b-870f-4f1d-94ba-e00043585dfe"
      },
      "execution_count": null,
      "outputs": [
        {
          "output_type": "execute_result",
          "data": {
            "text/plain": [
              "[1,\n",
              " 2,\n",
              " 3,\n",
              " 4,\n",
              " 5,\n",
              " 6,\n",
              " 7,\n",
              " 8,\n",
              " 9,\n",
              " 10,\n",
              " 11,\n",
              " 12,\n",
              " 13,\n",
              " 14,\n",
              " 15,\n",
              " 16,\n",
              " 17,\n",
              " 18,\n",
              " 19,\n",
              " 20,\n",
              " 21,\n",
              " 22,\n",
              " 23,\n",
              " 24,\n",
              " 25,\n",
              " 26,\n",
              " 27,\n",
              " 28,\n",
              " 29,\n",
              " 30,\n",
              " 31,\n",
              " 32,\n",
              " 33,\n",
              " 34,\n",
              " 35,\n",
              " 36,\n",
              " 37,\n",
              " 38,\n",
              " 39,\n",
              " 40,\n",
              " 41,\n",
              " 42,\n",
              " 43,\n",
              " 44,\n",
              " 45,\n",
              " 46,\n",
              " 47,\n",
              " 48,\n",
              " 49,\n",
              " 50,\n",
              " 51,\n",
              " 52,\n",
              " 53,\n",
              " 54,\n",
              " 55,\n",
              " 56,\n",
              " 57,\n",
              " 58,\n",
              " 59,\n",
              " 60,\n",
              " 61,\n",
              " 62,\n",
              " 63,\n",
              " 64,\n",
              " 65,\n",
              " 66,\n",
              " 67,\n",
              " 68,\n",
              " 69,\n",
              " 70,\n",
              " 71,\n",
              " 72,\n",
              " 73,\n",
              " 74,\n",
              " 75,\n",
              " 76,\n",
              " 77,\n",
              " 78,\n",
              " 79,\n",
              " 80,\n",
              " 81,\n",
              " 82,\n",
              " 83,\n",
              " 84,\n",
              " 85,\n",
              " 86,\n",
              " 87,\n",
              " 88,\n",
              " 89,\n",
              " 90,\n",
              " 91,\n",
              " 92,\n",
              " 93,\n",
              " 94,\n",
              " 95,\n",
              " 96,\n",
              " 97,\n",
              " 98,\n",
              " 99,\n",
              " 100,\n",
              " 101,\n",
              " 102,\n",
              " 103,\n",
              " 104,\n",
              " 105,\n",
              " 106,\n",
              " 107,\n",
              " 108,\n",
              " 109,\n",
              " 110,\n",
              " 111,\n",
              " 112,\n",
              " 113,\n",
              " 114,\n",
              " 115,\n",
              " 116,\n",
              " 117,\n",
              " 118,\n",
              " 119,\n",
              " 120,\n",
              " 121,\n",
              " 122,\n",
              " 123,\n",
              " 124,\n",
              " 125,\n",
              " 126,\n",
              " 127,\n",
              " 128,\n",
              " 129,\n",
              " 130,\n",
              " 131,\n",
              " 132,\n",
              " 133,\n",
              " 134,\n",
              " 135,\n",
              " 136,\n",
              " 137,\n",
              " 138,\n",
              " 139,\n",
              " 140,\n",
              " 141,\n",
              " 142,\n",
              " 143,\n",
              " 144,\n",
              " 145,\n",
              " 146,\n",
              " 147,\n",
              " 148,\n",
              " 149,\n",
              " 150,\n",
              " 151,\n",
              " 152,\n",
              " 153,\n",
              " 154,\n",
              " 155,\n",
              " 156,\n",
              " 157,\n",
              " 158,\n",
              " 159,\n",
              " 160,\n",
              " 161,\n",
              " 162,\n",
              " 163,\n",
              " 164,\n",
              " 165,\n",
              " 166,\n",
              " 167,\n",
              " 168,\n",
              " 169,\n",
              " 170,\n",
              " 171,\n",
              " 172,\n",
              " 173,\n",
              " 174,\n",
              " 175,\n",
              " 176,\n",
              " 177,\n",
              " 178,\n",
              " 179,\n",
              " 180,\n",
              " 181,\n",
              " 182,\n",
              " 183,\n",
              " 184,\n",
              " 185,\n",
              " 186,\n",
              " 187,\n",
              " 188,\n",
              " 189,\n",
              " 190,\n",
              " 191,\n",
              " 192,\n",
              " 193,\n",
              " 194,\n",
              " 195,\n",
              " 196,\n",
              " 197,\n",
              " 198,\n",
              " 199,\n",
              " 200,\n",
              " 201,\n",
              " 202,\n",
              " 203,\n",
              " 204,\n",
              " 205,\n",
              " 206,\n",
              " 207,\n",
              " 208,\n",
              " 209,\n",
              " 210,\n",
              " 211,\n",
              " 212,\n",
              " 213,\n",
              " 214,\n",
              " 215,\n",
              " 216,\n",
              " 217,\n",
              " 218,\n",
              " 219,\n",
              " 220,\n",
              " 221,\n",
              " 222,\n",
              " 223,\n",
              " 224,\n",
              " 225,\n",
              " 226,\n",
              " 227,\n",
              " 228,\n",
              " 229,\n",
              " 230,\n",
              " 231,\n",
              " 232,\n",
              " 233,\n",
              " 234,\n",
              " 235,\n",
              " 236,\n",
              " 237,\n",
              " 238,\n",
              " 239,\n",
              " 240,\n",
              " 241,\n",
              " 242,\n",
              " 243,\n",
              " 244,\n",
              " 245,\n",
              " 246,\n",
              " 247,\n",
              " 248,\n",
              " 249,\n",
              " 250,\n",
              " 251,\n",
              " 252,\n",
              " 253,\n",
              " 254,\n",
              " 255,\n",
              " 256,\n",
              " 257,\n",
              " 258,\n",
              " 259,\n",
              " 260,\n",
              " 261,\n",
              " 262,\n",
              " 263,\n",
              " 264,\n",
              " 265,\n",
              " 266,\n",
              " 267,\n",
              " 268,\n",
              " 269,\n",
              " 270,\n",
              " 271,\n",
              " 272,\n",
              " 273,\n",
              " 274,\n",
              " 275,\n",
              " 276,\n",
              " 277,\n",
              " 278,\n",
              " 279,\n",
              " 280,\n",
              " 281,\n",
              " 282,\n",
              " 283,\n",
              " 284,\n",
              " 285,\n",
              " 286,\n",
              " 287,\n",
              " 288,\n",
              " 289,\n",
              " 290,\n",
              " 291,\n",
              " 292,\n",
              " 293,\n",
              " 294,\n",
              " 295,\n",
              " 296,\n",
              " 297,\n",
              " 298,\n",
              " 299,\n",
              " 300,\n",
              " 301,\n",
              " 302,\n",
              " 303,\n",
              " 304,\n",
              " 305,\n",
              " 306,\n",
              " 307,\n",
              " 308,\n",
              " 309,\n",
              " 310,\n",
              " 311,\n",
              " 312,\n",
              " 313,\n",
              " 314,\n",
              " 315,\n",
              " 316,\n",
              " 317,\n",
              " 318,\n",
              " 319,\n",
              " 320,\n",
              " 321,\n",
              " 322,\n",
              " 323,\n",
              " 324,\n",
              " 325,\n",
              " 326,\n",
              " 327,\n",
              " 328,\n",
              " 329,\n",
              " 330,\n",
              " 331,\n",
              " 332,\n",
              " 333,\n",
              " 334,\n",
              " 335,\n",
              " 336,\n",
              " 337,\n",
              " 338,\n",
              " 339,\n",
              " 340,\n",
              " 341,\n",
              " 342,\n",
              " 343,\n",
              " 344,\n",
              " 345,\n",
              " 346,\n",
              " 347,\n",
              " 348,\n",
              " 349,\n",
              " 350,\n",
              " 351,\n",
              " 352,\n",
              " 353,\n",
              " 354,\n",
              " 355,\n",
              " 356,\n",
              " 357,\n",
              " 358,\n",
              " 359,\n",
              " 360,\n",
              " 361,\n",
              " 362,\n",
              " 363,\n",
              " 364,\n",
              " 365,\n",
              " 366,\n",
              " 367,\n",
              " 368,\n",
              " 369,\n",
              " 370,\n",
              " 371,\n",
              " 372,\n",
              " 373,\n",
              " 374,\n",
              " 375,\n",
              " 376,\n",
              " 377,\n",
              " 378,\n",
              " 379,\n",
              " 380,\n",
              " 381,\n",
              " 382,\n",
              " 383,\n",
              " 384,\n",
              " 385,\n",
              " 386,\n",
              " 387,\n",
              " 388,\n",
              " 389,\n",
              " 390,\n",
              " 391,\n",
              " 392,\n",
              " 393,\n",
              " 394,\n",
              " 395,\n",
              " 396,\n",
              " 397,\n",
              " 398,\n",
              " 399,\n",
              " 400,\n",
              " 401,\n",
              " 402,\n",
              " 403,\n",
              " 404,\n",
              " 405,\n",
              " 406,\n",
              " 407,\n",
              " 408,\n",
              " 409,\n",
              " 410,\n",
              " 411,\n",
              " 412,\n",
              " 413,\n",
              " 414,\n",
              " 415,\n",
              " 416,\n",
              " 417,\n",
              " 418,\n",
              " 419,\n",
              " 420,\n",
              " 421,\n",
              " 422,\n",
              " 423,\n",
              " 424,\n",
              " 425,\n",
              " 426,\n",
              " 427,\n",
              " 428,\n",
              " 429,\n",
              " 430,\n",
              " 431,\n",
              " 432,\n",
              " 433,\n",
              " 434,\n",
              " 435,\n",
              " 436,\n",
              " 437,\n",
              " 438,\n",
              " 439,\n",
              " 440,\n",
              " 441,\n",
              " 442,\n",
              " 443,\n",
              " 444,\n",
              " 445,\n",
              " 446,\n",
              " 447,\n",
              " 448,\n",
              " 449,\n",
              " 450,\n",
              " 451,\n",
              " 452,\n",
              " 453,\n",
              " 454,\n",
              " 455,\n",
              " 456,\n",
              " 457,\n",
              " 458,\n",
              " 459,\n",
              " 460,\n",
              " 461,\n",
              " 462,\n",
              " 463,\n",
              " 464,\n",
              " 465,\n",
              " 466,\n",
              " 467,\n",
              " 468,\n",
              " 469,\n",
              " 470,\n",
              " 471,\n",
              " 472,\n",
              " 473,\n",
              " 474,\n",
              " 475,\n",
              " 476,\n",
              " 477,\n",
              " 478,\n",
              " 479,\n",
              " 480,\n",
              " 481,\n",
              " 482,\n",
              " 483,\n",
              " 484,\n",
              " 485,\n",
              " 486,\n",
              " 487,\n",
              " 488,\n",
              " 489,\n",
              " 490,\n",
              " 491,\n",
              " 492,\n",
              " 493,\n",
              " 494,\n",
              " 495,\n",
              " 496,\n",
              " 497,\n",
              " 498,\n",
              " 499,\n",
              " 500,\n",
              " 501,\n",
              " 502,\n",
              " 503,\n",
              " 504,\n",
              " 505,\n",
              " 506,\n",
              " 507,\n",
              " 508,\n",
              " 509,\n",
              " 510,\n",
              " 511,\n",
              " 512,\n",
              " 513,\n",
              " 514,\n",
              " 515,\n",
              " 516,\n",
              " 517,\n",
              " 518,\n",
              " 519,\n",
              " 520,\n",
              " 521,\n",
              " 522,\n",
              " 523,\n",
              " 524,\n",
              " 525,\n",
              " 526,\n",
              " 527,\n",
              " 528,\n",
              " 529,\n",
              " 530,\n",
              " 531,\n",
              " 532,\n",
              " 533,\n",
              " 534,\n",
              " 535,\n",
              " 536,\n",
              " 537,\n",
              " 538,\n",
              " 539,\n",
              " 540,\n",
              " 541,\n",
              " 542,\n",
              " 543,\n",
              " 544,\n",
              " 545,\n",
              " 546,\n",
              " 547,\n",
              " 548,\n",
              " 549,\n",
              " 550,\n",
              " 551,\n",
              " 552,\n",
              " 553,\n",
              " 554,\n",
              " 555,\n",
              " 556,\n",
              " 557,\n",
              " 558,\n",
              " 559,\n",
              " 560,\n",
              " 561,\n",
              " 562,\n",
              " 563,\n",
              " 564,\n",
              " 565,\n",
              " 566,\n",
              " 567,\n",
              " 568,\n",
              " 569,\n",
              " 570,\n",
              " 571,\n",
              " 572,\n",
              " 573,\n",
              " 574,\n",
              " 575,\n",
              " 576,\n",
              " 577,\n",
              " 578,\n",
              " 579,\n",
              " 580,\n",
              " 581,\n",
              " 582,\n",
              " 583,\n",
              " 584,\n",
              " 585,\n",
              " 586,\n",
              " 587,\n",
              " 588,\n",
              " 589,\n",
              " 590,\n",
              " 591,\n",
              " 592,\n",
              " 593,\n",
              " 594,\n",
              " 595,\n",
              " 596,\n",
              " 597,\n",
              " 598,\n",
              " 599,\n",
              " 600,\n",
              " 601,\n",
              " 602,\n",
              " 603,\n",
              " 604,\n",
              " 605,\n",
              " 606,\n",
              " 607,\n",
              " 608,\n",
              " 609,\n",
              " 610,\n",
              " 611,\n",
              " 612,\n",
              " 613,\n",
              " 614,\n",
              " 615,\n",
              " 616,\n",
              " 617,\n",
              " 618,\n",
              " 619,\n",
              " 620,\n",
              " 621,\n",
              " 622,\n",
              " 623,\n",
              " 624,\n",
              " 625,\n",
              " 626,\n",
              " 627,\n",
              " 628,\n",
              " 629,\n",
              " 630,\n",
              " 631,\n",
              " 632,\n",
              " 633,\n",
              " 634,\n",
              " 635,\n",
              " 636,\n",
              " 637,\n",
              " 638,\n",
              " 639,\n",
              " 640,\n",
              " 641,\n",
              " 642,\n",
              " 643,\n",
              " 644,\n",
              " 645,\n",
              " 646,\n",
              " 647,\n",
              " 648,\n",
              " 649,\n",
              " 650,\n",
              " 651,\n",
              " 652,\n",
              " 653,\n",
              " 654,\n",
              " 655,\n",
              " 656,\n",
              " 657,\n",
              " 658,\n",
              " 659,\n",
              " 660,\n",
              " 661,\n",
              " 662,\n",
              " 663,\n",
              " 664,\n",
              " 665,\n",
              " 666,\n",
              " 667,\n",
              " 668,\n",
              " 669,\n",
              " 670,\n",
              " 671,\n",
              " 672,\n",
              " 673,\n",
              " 674,\n",
              " 675,\n",
              " 676,\n",
              " 677,\n",
              " 678,\n",
              " 679,\n",
              " 680,\n",
              " 681,\n",
              " 682,\n",
              " 683,\n",
              " 684,\n",
              " 685,\n",
              " 686,\n",
              " 687,\n",
              " 688,\n",
              " 689,\n",
              " 690,\n",
              " 691,\n",
              " 692,\n",
              " 693,\n",
              " 694,\n",
              " 695,\n",
              " 696,\n",
              " 697,\n",
              " 698,\n",
              " 699,\n",
              " 700,\n",
              " 701,\n",
              " 702,\n",
              " 703,\n",
              " 704,\n",
              " 705,\n",
              " 706,\n",
              " 707,\n",
              " 708,\n",
              " 709,\n",
              " 710,\n",
              " 711,\n",
              " 712,\n",
              " 713,\n",
              " 714,\n",
              " 715,\n",
              " 716,\n",
              " 717,\n",
              " 718,\n",
              " 719,\n",
              " 720,\n",
              " 721,\n",
              " 722,\n",
              " 723,\n",
              " 724,\n",
              " 725,\n",
              " 726,\n",
              " 727,\n",
              " 728,\n",
              " 729,\n",
              " 730,\n",
              " 731,\n",
              " 732,\n",
              " 733,\n",
              " 734,\n",
              " 735,\n",
              " 736,\n",
              " 737,\n",
              " 738,\n",
              " 739,\n",
              " 740,\n",
              " 741,\n",
              " 742,\n",
              " 743,\n",
              " 744,\n",
              " 745,\n",
              " 746,\n",
              " 747,\n",
              " 748,\n",
              " 749,\n",
              " 750,\n",
              " 751,\n",
              " 752,\n",
              " 753,\n",
              " 754,\n",
              " 755,\n",
              " 756,\n",
              " 757,\n",
              " 758,\n",
              " 759,\n",
              " 760,\n",
              " 761,\n",
              " 762,\n",
              " 763,\n",
              " 764,\n",
              " 765,\n",
              " 766,\n",
              " 767,\n",
              " 768,\n",
              " 769,\n",
              " 770,\n",
              " 771,\n",
              " 772,\n",
              " 773,\n",
              " 774,\n",
              " 775,\n",
              " 776,\n",
              " 777,\n",
              " 778,\n",
              " 779,\n",
              " 780,\n",
              " 781,\n",
              " 782,\n",
              " 783,\n",
              " 784,\n",
              " 785,\n",
              " 786,\n",
              " 787,\n",
              " 788,\n",
              " 789,\n",
              " 790,\n",
              " 791,\n",
              " 792,\n",
              " 793,\n",
              " 794,\n",
              " 795,\n",
              " 796,\n",
              " 797,\n",
              " 798,\n",
              " 799,\n",
              " 800,\n",
              " 801,\n",
              " 802,\n",
              " 803,\n",
              " 804,\n",
              " 805,\n",
              " 806,\n",
              " 807,\n",
              " 808,\n",
              " 809,\n",
              " 810,\n",
              " 811,\n",
              " 812,\n",
              " 813,\n",
              " 814,\n",
              " 815,\n",
              " 816,\n",
              " 817,\n",
              " 818,\n",
              " 819,\n",
              " 820,\n",
              " 821,\n",
              " 822,\n",
              " 823,\n",
              " 824,\n",
              " 825,\n",
              " 826,\n",
              " 827,\n",
              " 828,\n",
              " 829,\n",
              " 830,\n",
              " 831,\n",
              " 832,\n",
              " 833,\n",
              " 834,\n",
              " 835,\n",
              " 836,\n",
              " 837,\n",
              " 838,\n",
              " 839,\n",
              " 840,\n",
              " 841,\n",
              " 842,\n",
              " 843,\n",
              " 844,\n",
              " 845,\n",
              " 846,\n",
              " 847,\n",
              " 848,\n",
              " 849,\n",
              " 850,\n",
              " 851,\n",
              " 852,\n",
              " 853,\n",
              " 854,\n",
              " 855,\n",
              " 856,\n",
              " 857,\n",
              " 858,\n",
              " 859,\n",
              " 860,\n",
              " 861,\n",
              " 862,\n",
              " 863,\n",
              " 864,\n",
              " 865,\n",
              " 866,\n",
              " 867,\n",
              " 868,\n",
              " 869,\n",
              " 870,\n",
              " 871,\n",
              " 872,\n",
              " 873,\n",
              " 874,\n",
              " 875,\n",
              " 876,\n",
              " 877,\n",
              " 878,\n",
              " 879,\n",
              " 880,\n",
              " 881,\n",
              " 882,\n",
              " 883,\n",
              " 884,\n",
              " 885,\n",
              " 886,\n",
              " 887,\n",
              " 888,\n",
              " 889,\n",
              " 890,\n",
              " 891,\n",
              " 892,\n",
              " 893,\n",
              " 894,\n",
              " 895,\n",
              " 896,\n",
              " 897,\n",
              " 898,\n",
              " 899,\n",
              " 900,\n",
              " 901,\n",
              " 902,\n",
              " 903,\n",
              " 904,\n",
              " 905,\n",
              " 906,\n",
              " 907,\n",
              " 908,\n",
              " 909,\n",
              " 910,\n",
              " 911,\n",
              " 912,\n",
              " 913,\n",
              " 914,\n",
              " 915,\n",
              " 916,\n",
              " 917,\n",
              " 918,\n",
              " 919,\n",
              " 920,\n",
              " 921,\n",
              " 922,\n",
              " 923,\n",
              " 924,\n",
              " 925,\n",
              " 926,\n",
              " 927,\n",
              " 928,\n",
              " 929,\n",
              " 930,\n",
              " 931,\n",
              " 932,\n",
              " 933,\n",
              " 934,\n",
              " 935,\n",
              " 936,\n",
              " 937,\n",
              " 938,\n",
              " 939,\n",
              " 940,\n",
              " 941,\n",
              " 942,\n",
              " 943,\n",
              " 944,\n",
              " 945,\n",
              " 946,\n",
              " 947,\n",
              " 948,\n",
              " 949,\n",
              " 950,\n",
              " 951,\n",
              " 952,\n",
              " 953,\n",
              " 954,\n",
              " 955,\n",
              " 956,\n",
              " 957,\n",
              " 958,\n",
              " 959,\n",
              " 960,\n",
              " 961,\n",
              " 962,\n",
              " 963,\n",
              " 964,\n",
              " 965,\n",
              " 966,\n",
              " 967,\n",
              " 968,\n",
              " 969,\n",
              " 970,\n",
              " 971,\n",
              " 972,\n",
              " 973,\n",
              " 974,\n",
              " 975,\n",
              " 976,\n",
              " 977,\n",
              " 978,\n",
              " 979,\n",
              " 980,\n",
              " 981,\n",
              " 982,\n",
              " 983,\n",
              " 984,\n",
              " 985,\n",
              " 986,\n",
              " 987,\n",
              " 988,\n",
              " 989,\n",
              " 990,\n",
              " 991,\n",
              " 992,\n",
              " 993,\n",
              " 994,\n",
              " 995,\n",
              " 996,\n",
              " 997,\n",
              " 998,\n",
              " 999,\n",
              " 1000,\n",
              " ...]"
            ]
          },
          "metadata": {},
          "execution_count": 39
        }
      ]
    },
    {
      "cell_type": "code",
      "source": [
        "distinct_users_df = spark.createDataFrame([(user,) for user in Distinct_user_ID ], ['user_id'])"
      ],
      "metadata": {
        "colab": {
          "base_uri": "https://localhost:8080/",
          "height": 176
        },
        "id": "EADikFDtdTHy",
        "outputId": "5d5ffe8a-d2f3-4e37-8fc7-90b14c7e6433"
      },
      "execution_count": null,
      "outputs": [
        {
          "output_type": "error",
          "ename": "TypeError",
          "evalue": "ignored",
          "traceback": [
            "\u001b[0;31m---------------------------------------------------------------------------\u001b[0m",
            "\u001b[0;31mTypeError\u001b[0m                                 Traceback (most recent call last)",
            "\u001b[0;32m<ipython-input-42-44e4c9170484>\u001b[0m in \u001b[0;36m<cell line: 1>\u001b[0;34m()\u001b[0m\n\u001b[0;32m----> 1\u001b[0;31m \u001b[0mdistinct_user_ID_df\u001b[0m \u001b[0;34m=\u001b[0m \u001b[0mspark\u001b[0m\u001b[0;34m.\u001b[0m\u001b[0mcreateDataFrame\u001b[0m\u001b[0;34m(\u001b[0m\u001b[0;34m[\u001b[0m\u001b[0;34m(\u001b[0m\u001b[0muser\u001b[0m\u001b[0;34m,\u001b[0m\u001b[0;34m)\u001b[0m \u001b[0;32mfor\u001b[0m \u001b[0muser\u001b[0m \u001b[0;32min\u001b[0m \u001b[0mdistinct_user_ID\u001b[0m\u001b[0;34m]\u001b[0m\u001b[0;34m,\u001b[0m \u001b[0;34m[\u001b[0m\u001b[0;34m'New_User_ID'\u001b[0m\u001b[0;34m]\u001b[0m\u001b[0;34m)\u001b[0m\u001b[0;34m\u001b[0m\u001b[0;34m\u001b[0m\u001b[0m\n\u001b[0m",
            "\u001b[0;31mTypeError\u001b[0m: 'PipelinedRDD' object is not iterable"
          ]
        }
      ]
    },
    {
      "cell_type": "code",
      "source": [
        "num_recommendations = 2\n",
        "user_recommendations = als_model.recommendForUserSubset(distinct_users_df, num_recommendations)"
      ],
      "metadata": {
        "id": "YVckjDLid7-l"
      },
      "execution_count": null,
      "outputs": []
    },
    {
      "cell_type": "code",
      "source": [
        "from pyspark.sql.functions import col\n",
        "from pyspark.sql.types import IntegerType\n",
        "from pyspark.sql.functions import udf\n",
        "from pyspark.sql.types import ArrayType"
      ],
      "metadata": {
        "id": "Ns5_xV-Mgvlh"
      },
      "execution_count": null,
      "outputs": []
    },
    {
      "cell_type": "code",
      "source": [
        "extract_Product_ids = udf(lambda x: [row.New_Product_ID for row in x], ArrayType(IntegerType()))\n",
        "user_recommendations = user_recommendations.withColumn('New_Product_ID', extract_Product_ids(col('recommendations'))) \\\n",
        "                                            .drop('recommendations')\n"
      ],
      "metadata": {
        "id": "uiP6ZArNeJIR"
      },
      "execution_count": null,
      "outputs": []
    },
    {
      "cell_type": "code",
      "source": [
        "user_recommendations.show(10)"
      ],
      "metadata": {
        "colab": {
          "base_uri": "https://localhost:8080/"
        },
        "id": "y1a88MYvgyBW",
        "outputId": "c5fbc7b4-e105-47ab-8f9b-dc3ef3165473"
      },
      "execution_count": null,
      "outputs": [
        {
          "output_type": "stream",
          "name": "stdout",
          "text": [
            "+-----------+--------------+\n",
            "|New_User_ID|New_Product_ID|\n",
            "+-----------+--------------+\n",
            "|          6|[29836, 57653]|\n",
            "|         12|[59453, 21733]|\n",
            "|         13|[59087, 21560]|\n",
            "|         22| [30864, 3450]|\n",
            "|         27| [47709, 2410]|\n",
            "|         28|  [5416, 6343]|\n",
            "|         31|[10263, 41298]|\n",
            "|         44| [4281, 19752]|\n",
            "|         52| [6952, 61622]|\n",
            "|         81| [8134, 12821]|\n",
            "+-----------+--------------+\n",
            "only showing top 10 rows\n",
            "\n"
          ]
        }
      ]
    },
    {
      "cell_type": "markdown",
      "source": [
        "Using Popularity Method"
      ],
      "metadata": {
        "id": "w3_UfWBf5vZc"
      }
    },
    {
      "cell_type": "code",
      "source": [
        "from pyspark.sql.functions import avg, lit, col, coalesce\n",
        "from pyspark.ml.recommendation import ALS\n",
        "from pyspark.ml.evaluation import RegressionEvaluator\n",
        "\n",
        "# Split the data into training and testing sets\n",
        "train_df, test_df = amazon_df.randomSplit([0.8, 0.2], seed=42)"
      ],
      "metadata": {
        "id": "kNTteSTg50O7"
      },
      "execution_count": null,
      "outputs": []
    },
    {
      "cell_type": "code",
      "source": [
        "# Calculate the global mean rating\n",
        "global_mean = train_df.agg(avg('Rating')).first()[0]"
      ],
      "metadata": {
        "id": "wXHeT0QkdBXu"
      },
      "execution_count": null,
      "outputs": []
    },
    {
      "cell_type": "code",
      "source": [
        "# Calculate the mean rating for each user and item in the training set\n",
        "user_means = train_df.groupBy('New_User_ID').agg(avg('Rating').alias('user_mean'))\n",
        "item_means = train_df.groupBy('New_Product_ID').agg(avg('Rating').alias('item_mean'))"
      ],
      "metadata": {
        "id": "rpOgGrpPdYVp"
      },
      "execution_count": null,
      "outputs": []
    },
    {
      "cell_type": "code",
      "source": [
        "# Compute the deviations from the global average for each user and product\n",
        "user_deviations = user_means.rdd.map(lambda row: (row['New_User_ID'], row['user_mean'] - global_mean)).collectAsMap()\n",
        "product_deviations = item_means.rdd.map(lambda row: (row['New_Product_ID'], row['item_mean'] - global_mean)).collectAsMap()\n"
      ],
      "metadata": {
        "id": "46t1Y_ikdpwy"
      },
      "execution_count": null,
      "outputs": []
    },
    {
      "cell_type": "code",
      "source": [
        "def predict_rating(New_User_ID, New_Product_ID):\n",
        "    user_deviation = user_deviations.get(New_User_ID, 0)\n",
        "    product_deviation = product_deviations.get(New_Product_ID, 0)\n",
        "    return global_mean + user_deviation + product_deviation"
      ],
      "metadata": {
        "id": "rL0VkEGed_D0"
      },
      "execution_count": null,
      "outputs": []
    },
    {
      "cell_type": "code",
      "source": [
        "# Convert the training set to a dataframe\n",
        "train_df = train_df.selectExpr(' userId', 'itemId', 'rating')"
      ],
      "metadata": {
        "id": "-9QZkPYgeWkz"
      },
      "execution_count": null,
      "outputs": []
    },
    {
      "cell_type": "code",
      "source": [
        "from pyspark.sql.types import FloatType\n",
        "from pyspark.sql.functions import udf\n",
        "# Add a column for the predicted rating to the test set\n",
        "predict_rating_udf = udf(predict_rating, FloatType())\n",
        "test_df = test_df.withColumn('predicted_rating', predict_rating_udf('New_User_ID', 'New_Product_ID'))\n"
      ],
      "metadata": {
        "id": "90g_Jmnmfiw4"
      },
      "execution_count": null,
      "outputs": []
    },
    {
      "cell_type": "code",
      "source": [
        "# Compute the RMSE on the test set\n",
        "evaluator = RegressionEvaluator(metricName='rmse', labelCol='Rating', predictionCol='predicted_rating')\n",
        "rmse = evaluator.evaluate(test_df)\n",
        "print(f'RMSE: {rmse}')"
      ],
      "metadata": {
        "colab": {
          "base_uri": "https://localhost:8080/"
        },
        "id": "lcXGXqkThmNt",
        "outputId": "154ac8c9-374c-43a9-f7fc-1ba44466850b"
      },
      "execution_count": null,
      "outputs": [
        {
          "output_type": "stream",
          "name": "stdout",
          "text": [
            "RMSE: 1.414356516017903\n"
          ]
        }
      ]
    }
  ]
}